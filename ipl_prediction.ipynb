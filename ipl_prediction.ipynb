{
 "cells": [
  {
   "cell_type": "markdown",
   "id": "cb15972a",
   "metadata": {},
   "source": [
    "# IPL Match Winner Prediction\n",
    "Install pandas and numpy"
   ]
  },
  {
   "cell_type": "code",
   "execution_count": null,
   "id": "ea6c5e23-8157-4eaa-8c65-f2f25e9ef397",
   "metadata": {},
   "outputs": [],
   "source": [
    "import pandas as pd"
   ]
  },
  {
   "cell_type": "markdown",
   "id": "6d799094",
   "metadata": {},
   "source": [
    "Read data from CSV datasets"
   ]
  },
  {
   "cell_type": "code",
   "execution_count": null,
   "id": "84cdf307",
   "metadata": {},
   "outputs": [],
   "source": [
    "match = pd.read_csv('datasets/matches.csv')\n",
    "delivery = pd.read_csv('datasets/deliveries.csv')"
   ]
  },
  {
   "cell_type": "code",
   "execution_count": null,
   "id": "42d66933",
   "metadata": {},
   "outputs": [],
   "source": [
    "delivery.head()"
   ]
  },
  {
   "cell_type": "markdown",
   "id": "99debe6d",
   "metadata": {},
   "source": [
    "- find the total runs of each innings\n",
    "- group by match_id and inning and sum the total runs & store in 'total_runs' column"
   ]
  },
  {
   "cell_type": "code",
   "execution_count": null,
   "id": "c7d8fa70",
   "metadata": {},
   "outputs": [],
   "source": [
    "delivery.groupby(['match_id', 'inning']).sum()['total_runs']"
   ]
  },
  {
   "cell_type": "markdown",
   "id": "d054feb4",
   "metadata": {},
   "source": [
    "- reset the index of the dataframe and store in 'total_score_df'"
   ]
  },
  {
   "cell_type": "code",
   "execution_count": null,
   "id": "a3685070",
   "metadata": {},
   "outputs": [],
   "source": [
    "total_score_df = delivery.groupby(['match_id', 'inning']).sum()['total_runs'].reset_index()"
   ]
  },
  {
   "cell_type": "markdown",
   "id": "081420c0",
   "metadata": {},
   "source": [
    "- Filter the innings 1 (first inning)"
   ]
  },
  {
   "cell_type": "code",
   "execution_count": null,
   "id": "d88fd345",
   "metadata": {},
   "outputs": [],
   "source": [
    "total_score_df = total_score_df[total_score_df['inning'] ==1]"
   ]
  },
  {
   "cell_type": "code",
   "execution_count": null,
   "id": "43905100",
   "metadata": {},
   "outputs": [],
   "source": [
    "total_score_df"
   ]
  },
  {
   "cell_type": "markdown",
   "id": "41259f24",
   "metadata": {},
   "source": [
    "- Till now, we got the first inning total runs for each match"
   ]
  },
  {
   "cell_type": "markdown",
   "id": "829a1846",
   "metadata": {},
   "source": [
    "- Now, merge the match and total_score_df dataframes by match_id present in total_score_df & id present in match, store in match_df"
   ]
  },
  {
   "cell_type": "code",
   "execution_count": null,
   "id": "f11b6e9e",
   "metadata": {},
   "outputs": [],
   "source": [
    "match_df = match.merge(total_score_df[['match_id', 'total_runs']], left_on='id', right_on='match_id')"
   ]
  },
  {
   "cell_type": "code",
   "execution_count": null,
   "id": "ea5c10cd",
   "metadata": {},
   "outputs": [],
   "source": [
    "match_df['team1'].unique() # find all unique teams"
   ]
  },
  {
   "cell_type": "code",
   "execution_count": null,
   "id": "46ce90f6",
   "metadata": {},
   "outputs": [],
   "source": [
    "# Current teams\n",
    "teams = [\n",
    "    'Chennai Super Kings',\n",
    "    'Royal Challengers Bengaluru',\n",
    "    'Delhi Capitals',\n",
    "    'Kolkata Knight Riders',\n",
    "    'Mumbai Indians',\n",
    "    'Punjab Kings',\n",
    "    'Rajasthan Royals',\n",
    "    'Sunrisers Hyderabad',\n",
    "    'Lucknow Super Giants', \n",
    "    'Gujarat Titans'\n",
    "]"
   ]
  },
  {
   "cell_type": "code",
   "execution_count": null,
   "id": "fd7e9cf3",
   "metadata": {},
   "outputs": [],
   "source": [
    "# Fix team names\n",
    "match_df['team1'] = match_df['team1'].str.replace('Royal Challengers Bangalore', 'Royal Challengers Bengaluru')\n",
    "match_df['team2'] = match_df['team2'].str.replace('Royal Challengers Bangalore', 'Royal Challengers Bengaluru')\n",
    "\n",
    "match_df['team1'] = match_df['team1'].str.replace('Kings XI Punjab', 'Punjab Kings')\n",
    "match_df['team2'] = match_df['team2'].str.replace('Kings XI Punjab', 'Punjab Kings')\n",
    "\n",
    "match_df['team1'] = match_df['team1'].str.replace('Delhi Daredevils', 'Delhi Capitals')\n",
    "match_df['team2'] = match_df['team2'].str.replace('Delhi Daredevils', 'Delhi Capitals')\n",
    "\n",
    "match_df['team1'] = match_df['team1'].str.replace('Deccan Chargers', 'Sunrisers Hyderabad')\n",
    "match_df['team2'] = match_df['team2'].str.replace('Deccan Chargers', 'Sunrisers Hyderabad')"
   ]
  },
  {
   "cell_type": "code",
   "execution_count": null,
   "id": "d43b1aaa",
   "metadata": {},
   "outputs": [],
   "source": [
    "match_df = match_df[match_df['team2'].isin(teams) & match_df['team1'].isin(teams)]"
   ]
  },
  {
   "cell_type": "code",
   "execution_count": null,
   "id": "5f542ac6",
   "metadata": {},
   "outputs": [],
   "source": [
    "# match_df['method'].unique()\n",
    "match_df.columns"
   ]
  },
  {
   "cell_type": "code",
   "execution_count": null,
   "id": "b2564504",
   "metadata": {},
   "outputs": [],
   "source": [
    "# Remove D/L method (DLS Method)\n",
    "match_df = match_df[match_df['method'] != 'D/L']"
   ]
  },
  {
   "cell_type": "code",
   "execution_count": null,
   "id": "43bdab3e",
   "metadata": {},
   "outputs": [],
   "source": [
    "# Extract the required fields such as city, winner, total_runs\n",
    "match_df = match_df[['match_id', 'city', 'winner', 'total_runs']]"
   ]
  },
  {
   "cell_type": "code",
   "execution_count": null,
   "id": "59cfff9d-c11b-444f-b507-5339b578fc83",
   "metadata": {},
   "outputs": [],
   "source": [
    "match_df"
   ]
  },
  {
   "cell_type": "code",
   "execution_count": null,
   "id": "6b23f93f",
   "metadata": {},
   "outputs": [],
   "source": [
    "# Merge this match_df with delivery\n",
    "delivery_df = match_df.merge(delivery, on=\"match_id\")"
   ]
  },
  {
   "cell_type": "code",
   "execution_count": null,
   "id": "63565248",
   "metadata": {},
   "outputs": [],
   "source": [
    "# Filter for second innings, as we have to find while chasing the target\n",
    "delivery_df = delivery_df[delivery_df['inning'] == 2]"
   ]
  },
  {
   "cell_type": "code",
   "execution_count": null,
   "id": "b4e5ba33",
   "metadata": {},
   "outputs": [],
   "source": [
    "# Calculate the current score after each delivery\n",
    "delivery_df['current_score'] = delivery_df.groupby('match_id')['total_runs_y'].cumsum()\n"
   ]
  },
  {
   "cell_type": "code",
   "execution_count": null,
   "id": "b9da36ca",
   "metadata": {},
   "outputs": [],
   "source": [
    "# Calculate runs left after each delivery\n",
    "delivery_df['runs_left'] = delivery_df['total_runs_x'] - delivery_df['current_score'] + 1   # 1 run extra needed for win"
   ]
  },
  {
   "cell_type": "code",
   "execution_count": null,
   "id": "8f96f194-685a-4538-8dda-af3d7794ea2d",
   "metadata": {},
   "outputs": [],
   "source": [
    "# Select only valid balls\n",
    "delivery_df['extras_type'].unique()\n",
    "# delivery_df['ball'].unique()"
   ]
  },
  {
   "cell_type": "code",
   "execution_count": null,
   "id": "df1cb08e-f567-40bf-8aa1-4241fbc37727",
   "metadata": {},
   "outputs": [],
   "source": [
    "# Create column that indicates if ball is legal\n",
    "delivery_df['is_legal'] = ~delivery_df['extras_type'].isin(['wides', 'legbyes', 'byes', 'noballs', 'penalty'])"
   ]
  },
  {
   "cell_type": "code",
   "execution_count": null,
   "id": "6a71c1d1-9bbe-4a06-a4f3-9aab55c08e9d",
   "metadata": {},
   "outputs": [],
   "source": [
    "delivery_df['is_legal'] = delivery_df['is_legal'].fillna(True)"
   ]
  },
  {
   "cell_type": "code",
   "execution_count": null,
   "id": "1e0f4934-92e5-4f12-acea-c2d36a627b5b",
   "metadata": {},
   "outputs": [],
   "source": [
    "delivery_df['legal_ball_number'] = delivery_df.groupby(['match_id', 'inning'])['is_legal'].cumsum()"
   ]
  },
  {
   "cell_type": "code",
   "execution_count": null,
   "id": "5be5c1fe",
   "metadata": {},
   "outputs": [],
   "source": [
    "# Calculate overs completed\n",
    "delivery_df['overs_done'] = delivery_df['legal_ball_number'] / 6"
   ]
  },
  {
   "cell_type": "code",
   "execution_count": null,
   "id": "c72fd89a",
   "metadata": {},
   "outputs": [],
   "source": [
    "# Calculate wickets left\n",
    "delivery_df['wickets_left'] = 10 - delivery_df.groupby('match_id')['is_wicket'].cumsum()"
   ]
  },
  {
   "cell_type": "code",
   "execution_count": null,
   "id": "0e6eebdd",
   "metadata": {},
   "outputs": [],
   "source": [
    "# Calculate current run rate\n",
    "# crr = (runs scored / overs played)\n",
    "delivery_df['crr'] = delivery_df.apply(\n",
    "    lambda x: x['current_score'] / x['overs_done'] if x['overs_done'] > 0 else 0,\n",
    "    axis=1\n",
    ")"
   ]
  },
  {
   "cell_type": "code",
   "execution_count": null,
   "id": "019340c3",
   "metadata": {},
   "outputs": [],
   "source": [
    "# Calculate required run rate\n",
    "# rrr = (runs needed / overs left)\n",
    "delivery_df['overs_left'] = (120 - delivery_df['legal_ball_number']) / 6\n",
    "delivery_df['rrr'] = delivery_df.apply(\n",
    "    lambda x: x['runs_left'] / x['overs_left'] if x['overs_left'] > 0 else 0,\n",
    "    axis=1\n",
    ")"
   ]
  },
  {
   "cell_type": "code",
   "execution_count": null,
   "id": "44e7dc6c",
   "metadata": {},
   "outputs": [],
   "source": [
    "# Calculate result as boolean (win = 1, loss = 0)\n",
    "# if batting team in 2nd inning is winner then result = 1 else result = 0\n",
    "# for this we create a function & apply to each row\n",
    "def result(row): \n",
    "    return 1 if row['batting_team'] == row['winner'] else 0"
   ]
  },
  {
   "cell_type": "code",
   "execution_count": null,
   "id": "36e7a5ab",
   "metadata": {},
   "outputs": [],
   "source": [
    "delivery_df['result'] = delivery_df.apply(result, axis=1)   # axis=1 for row wise"
   ]
  },
  {
   "cell_type": "code",
   "execution_count": null,
   "id": "516473de-897b-4320-8e7b-edc169491abc",
   "metadata": {},
   "outputs": [],
   "source": [
    "delivery_df['balls_left'] = 120 - delivery_df['legal_ball_number']\n",
    "delivery_df['balls_left'] = delivery_df.apply(\n",
    "    lambda x: 120 - x['legal_ball_number'] if x['inning'] == 2 else None,\n",
    "    axis=1\n",
    ")"
   ]
  },
  {
   "cell_type": "code",
   "execution_count": null,
   "id": "e97615e8",
   "metadata": {},
   "outputs": [],
   "source": [
    "# Extract required columns\n",
    "final_df = delivery_df[['batting_team', 'bowling_team', 'city', 'runs_left', 'balls_left', 'wickets_left', 'total_runs_x', 'crr', 'rrr', 'result']]"
   ]
  },
  {
   "cell_type": "code",
   "execution_count": null,
   "id": "bb3a067f",
   "metadata": {},
   "outputs": [],
   "source": [
    "# shuffle each delivery to avoid overfitting / bias\n",
    "final_df = final_df.sample(final_df.shape[0])"
   ]
  },
  {
   "cell_type": "code",
   "execution_count": null,
   "id": "a6f3a6f1",
   "metadata": {},
   "outputs": [],
   "source": [
    "# sample row\n",
    "final_df.sample()"
   ]
  },
  {
   "cell_type": "code",
   "execution_count": null,
   "id": "282bf822-dacb-4cc5-9f35-9343ee4e9b49",
   "metadata": {},
   "outputs": [],
   "source": [
    "# removes all rows in final_df that contains at lease one NaN value\n",
    "final_df.dropna(inplace=True)"
   ]
  },
  {
   "cell_type": "code",
   "execution_count": null,
   "id": "ff4afc72-e327-413d-a00e-bbda9d3401ae",
   "metadata": {},
   "outputs": [],
   "source": [
    "# Filter out all rows where balls_left is not Zero\n",
    "final_df = final_df[final_df['balls_left'] != 0]"
   ]
  },
  {
   "cell_type": "markdown",
   "id": "d017b459",
   "metadata": {},
   "source": [
    "- Till now, our dataset is clean and ready for model training\n",
    "\n",
    "# Model Training"
   ]
  },
  {
   "cell_type": "code",
   "execution_count": null,
   "id": "7d9715b5",
   "metadata": {},
   "outputs": [],
   "source": [
    "# Import train_test_split for splitting data\n",
    "X = final_df.iloc[:,:-1] # all rows & all columns except result (last column)\n",
    "y = final_df.iloc[:,-1] # all rows & last column only\n",
    "\n",
    "from sklearn.model_selection import train_test_split        # This imports the function to split your data into training and test sets.\n",
    "\n",
    "X_train, X_test, y_train, y_test = train_test_split(X, y, test_size=0.2, random_state=1) # 80% training data & 20% test data, random_state=1 for reproducibility"
   ]
  },
  {
   "cell_type": "code",
   "execution_count": null,
   "id": "d8bd5623",
   "metadata": {},
   "outputs": [],
   "source": [
    "# X.info()"
   ]
  },
  {
   "cell_type": "code",
   "execution_count": null,
   "id": "5bfe8277",
   "metadata": {},
   "outputs": [],
   "source": [
    "# Convert categorical data to numeric formats\n",
    "\n",
    "from sklearn.compose import ColumnTransformer   # apply transformer to specific columns\n",
    "from sklearn.preprocessing import OneHotEncoder # convert categorical to binary values\n",
    "\n",
    "# Create the ColumnTransformer\n",
    "trf = ColumnTransformer([\n",
    "    ('trf', OneHotEncoder(sparse_output=False, drop='first'), ['batting_team', 'bowling_team', 'city']) \n",
    "    # sparse_output=False to return numpy array\n",
    "    # drop='first' to avoid dummy variable trap\n",
    "], remainder='passthrough') # remainder='passthrough' to keep the other columns as it is\n"
   ]
  },
  {
   "cell_type": "code",
   "execution_count": null,
   "id": "b0ba1efa",
   "metadata": {},
   "outputs": [],
   "source": [
    "# Logistic Regression & Random Forest model\n",
    "from sklearn.linear_model import LogisticRegression\n",
    "from sklearn.ensemble import RandomForestClassifier \n",
    "from sklearn.pipeline import Pipeline"
   ]
  },
  {
   "cell_type": "code",
   "execution_count": null,
   "id": "60e1d672",
   "metadata": {},
   "outputs": [],
   "source": [
    "# Create the pipeline\n",
    "\n",
    "# Logistic Regression\n",
    "pipe = Pipeline(steps=[\n",
    "    ('step1', trf),\n",
    "    # ('step2', LogisticRegression(solver='liblinear'))\n",
    "    ('step2', RandomForestClassifier())\n",
    "])"
   ]
  },
  {
   "cell_type": "code",
   "execution_count": null,
   "id": "ba989a6e",
   "metadata": {},
   "outputs": [],
   "source": [
    "pipe.fit(X_train, y_train)"
   ]
  },
  {
   "cell_type": "code",
   "execution_count": null,
   "id": "47f73693-7355-4131-bb27-1512f2a20e5a",
   "metadata": {},
   "outputs": [],
   "source": [
    "# Find accuracy score of the model \n",
    "from sklearn.metrics import accuracy_score\n",
    "y_pred = pipe.predict(X_test)\n",
    "accuracy_score(y_test, y_pred)\n",
    "# Logistic Regression = 0.8095959118008895\n",
    "# Random Forest = 0.9983912179426516"
   ]
  },
  {
   "cell_type": "code",
   "execution_count": null,
   "id": "b7a1f324-5371-4fa7-bac8-b7b0b591565c",
   "metadata": {},
   "outputs": [],
   "source": [
    "import numpy as np"
   ]
  },
  {
   "cell_type": "code",
   "execution_count": null,
   "id": "2b6743a2-b4d1-435c-bd55-fbe6590904ad",
   "metadata": {},
   "outputs": [],
   "source": [
    "def match_progression(x_df, match_id, pipe):\n",
    "    # Filter the DataFrame for the given match_id\n",
    "    match = x_df[x_df['match_id'] == match_id]\n",
    "\n",
    "    # Only consider the last ball of each over (i.e., ball number 6)\n",
    "    match = match[(match['ball'] == 6)]\n",
    "\n",
    "    # Select relevant features and remove rows with missing values\n",
    "    temp_df = match[['batting_team', 'bowling_team', 'city', 'runs_left', 'balls_left',\n",
    "                     'wickets_left', 'total_runs_x', 'crr', 'rrr']].dropna()\n",
    "\n",
    "    # Remove rows where no balls are left (i.e., innings is over)\n",
    "    temp_df = temp_df[temp_df['balls_left'] != 0]\n",
    "\n",
    "    # Predict win and loss probabilities using the trained model pipeline\n",
    "    result = pipe.predict_proba(temp_df)\n",
    "\n",
    "    # Add predicted lose and win probabilities (in percentage) to temp_df\n",
    "    temp_df['lose'] = np.round(result.T[0] * 100, 1)\n",
    "    temp_df['win'] = np.round(result.T[1] * 100, 1)\n",
    "\n",
    "    # Add an 'end_of_over' column to indicate over progression (1 to n)\n",
    "    temp_df['end_of_over'] = range(1, temp_df.shape[0] + 1)\n",
    "\n",
    "    # Extract target runs from the total_runs_x column (assumes constant for match)\n",
    "    target = temp_df['total_runs_x'].values[0]\n",
    "\n",
    "    # Calculate runs scored in each over\n",
    "    runs = list(temp_df['runs_left'].values)\n",
    "    new_runs = runs[:]  # Copy of runs_left after each over\n",
    "    runs.insert(0, target)  # Insert total target at the start\n",
    "    temp_df['runs_after_over'] = np.array(runs)[:-1] - np.array(new_runs)  # Difference gives runs in that over\n",
    "\n",
    "    # Calculate wickets lost in each over\n",
    "    wickets = list(temp_df['wickets_left'].values)\n",
    "    new_wickets = wickets[:]  # Copy of wickets_left\n",
    "    new_wickets.insert(0, 10)  # Start with 10 wickets\n",
    "    wickets.append(0)          # Add dummy value to match lengths\n",
    "    w = np.array(wickets)\n",
    "    nw = np.array(new_wickets)\n",
    "    temp_df['wickets_in_over'] = (nw - w)[0:temp_df.shape[0]]  # Difference gives wickets lost in that over\n",
    "\n",
    "    # Print the target for reference\n",
    "    print(\"Target-\", target)\n",
    "\n",
    "    # Keep only relevant columns for plotting or further analysis\n",
    "    temp_df = temp_df[['end_of_over', 'runs_after_over', 'wickets_in_over', 'lose', 'win']]\n",
    "\n",
    "    return temp_df, target\n"
   ]
  },
  {
   "cell_type": "code",
   "execution_count": null,
   "id": "727db2de-71bf-4726-a935-92908c85a03d",
   "metadata": {},
   "outputs": [],
   "source": [
    "temp_df,target = match_progression(delivery_df, 1181768, pipe)"
   ]
  },
  {
   "cell_type": "code",
   "execution_count": null,
   "id": "781b4e57-2ebb-471d-bbad-9b440f93a15b",
   "metadata": {},
   "outputs": [],
   "source": [
    "# plot the graph\n",
    "import matplotlib.pyplot as plt\n",
    "\n",
    "plt.figure(figsize=(18, 8))\n",
    "\n",
    "# Line plot: Wickets lost per over\n",
    "plt.plot(temp_df['end_of_over'], temp_df['wickets_in_over'], color='yellow', linewidth=3, label='Wickets in Over')\n",
    "\n",
    "# Line plot: Win probability\n",
    "plt.plot(temp_df['end_of_over'], temp_df['win'], color='#00a65a', linewidth=4, label='Win Probability')\n",
    "\n",
    "# Line plot: Lose probability\n",
    "plt.plot(temp_df['end_of_over'], temp_df['lose'], color='red', linewidth=4, label='Lose Probability')\n",
    "\n",
    "# Bar chart: Runs scored after each over\n",
    "plt.bar(temp_df['end_of_over'], temp_df['runs_after_over'], alpha=0.3, label='Runs After Over')\n",
    "\n",
    "# Title and legend\n",
    "plt.title('Target - ' + str(target))\n",
    "plt.xlabel('End of Over')\n",
    "plt.ylabel('Values')\n",
    "plt.legend()\n",
    "plt.grid(True)\n",
    "plt.tight_layout()\n",
    "plt.show()\n"
   ]
  },
  {
   "cell_type": "markdown",
   "id": "5dc5d52e-6dd3-47cd-918a-1600391c2e46",
   "metadata": {},
   "source": [
    "- Fetch the fields to display"
   ]
  },
  {
   "cell_type": "code",
   "execution_count": null,
   "id": "ecd37bb1-99c1-4e38-b3fa-14d828738d20",
   "metadata": {},
   "outputs": [],
   "source": [
    "teams"
   ]
  },
  {
   "cell_type": "code",
   "execution_count": null,
   "id": "f88ab5bb-b45c-4a6a-acd6-126c63989df5",
   "metadata": {},
   "outputs": [],
   "source": [
    "city = delivery_df['city'].unique()\n",
    "city"
   ]
  },
  {
   "cell_type": "code",
   "execution_count": null,
   "id": "4a76b74e-0812-475b-acfe-57a8dc6c29e1",
   "metadata": {},
   "outputs": [],
   "source": [
    "import pickle  # Import the pickle module to save/load Python objects\n",
    "\n",
    "# Save the trained model pipeline object 'pipe' to a file named 'pipe.pkl' in binary write mode\n",
    "# pickle.dump(pipe, open('models/logistic_regression.pkl', 'wb'))\n",
    "pickle.dump(pipe, open('models/random_forest.pkl', 'wb'))"
   ]
  },
  {
   "cell_type": "code",
   "execution_count": null,
   "id": "614a4013-604b-4885-85b5-da552f75c496",
   "metadata": {},
   "outputs": [],
   "source": []
  }
 ],
 "metadata": {
  "kernelspec": {
   "display_name": ".venv",
   "language": "python",
   "name": "python3"
  },
  "language_info": {
   "codemirror_mode": {
    "name": "ipython",
    "version": 3
   },
   "file_extension": ".py",
   "mimetype": "text/x-python",
   "name": "python",
   "nbconvert_exporter": "python",
   "pygments_lexer": "ipython3",
   "version": "3.12.3"
  }
 },
 "nbformat": 4,
 "nbformat_minor": 5
}
